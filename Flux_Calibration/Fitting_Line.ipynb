{
 "cells": [
  {
   "cell_type": "code",
   "execution_count": null,
   "metadata": {},
   "outputs": [],
   "source": [
    "# Create the test and training data to predict f(x) = 4x +2\n",
    "using Flux\n",
    "actual(x) = 4x + 2\n",
    "\n",
    "x_train, x_test = hcat(0:5...),hcat(6:10...)\n",
    "\n",
    "y_train, y_test = actual.(x_train), actual.(x_test)"
   ]
  },
  {
   "cell_type": "code",
   "execution_count": null,
   "metadata": {},
   "outputs": [],
   "source": [
    "# Create a model for prediction\n",
    "model = Dense(1 => 1)\n",
    "model.weight\n",
    "model.bias"
   ]
  },
  {
   "cell_type": "code",
   "execution_count": null,
   "metadata": {},
   "outputs": [],
   "source": [
    "model(x_train) # Not trained!\n",
    "\n",
    "# Provide a loss function to determine the accuracy of the prediction and minimize it\n",
    "using Statistics\n",
    "loss(model, x, y) = mean(abs2.(model(x) .-y));\n",
    "loss = Flux.crossentropy\n"
   ]
  },
  {
   "cell_type": "code",
   "execution_count": null,
   "metadata": {},
   "outputs": [],
   "source": [
    "using Flux: train!\n",
    "opt = Descent()\n",
    "data = [(x_train, y_train)]\n",
    "\n",
    "# Train the model \"model\" once\n",
    "\n",
    "train!(loss, model, data, opt)\n"
   ]
  },
  {
   "cell_type": "code",
   "execution_count": null,
   "metadata": {},
   "outputs": [],
   "source": [
    "epoch = 0\n",
    "while loss(model, x_train, y_train) > 1e-6\n",
    "    train!(loss, model, data, opt)\n",
    "    println(\"Epoch: $epoch\")\n",
    "    epoch += 1\n",
    "end\n",
    "\n",
    "#for epoch in 1:200\n",
    "#    train!(loss, model, data, opt)\n",
    "#end\n"
   ]
  },
  {
   "cell_type": "code",
   "execution_count": null,
   "metadata": {},
   "outputs": [],
   "source": [
    "loss(model,x_test, y_test)\n",
    "\n",
    "#results_NN = model(x_test)\n",
    "#println(\"The results of the NN are $results_NN and the original are $y_test\")"
   ]
  }
 ],
 "metadata": {
  "kernelspec": {
   "display_name": "Julia 1.9.4",
   "language": "julia",
   "name": "julia-1.9"
  },
  "language_info": {
   "file_extension": ".jl",
   "mimetype": "application/julia",
   "name": "julia",
   "version": "1.9.4"
  }
 },
 "nbformat": 4,
 "nbformat_minor": 2
}
